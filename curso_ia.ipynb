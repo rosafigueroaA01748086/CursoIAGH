{
  "nbformat": 4,
  "nbformat_minor": 0,
  "metadata": {
    "colab": {
      "provenance": [],
      "authorship_tag": "ABX9TyNfUuocI8rgDy7b6OJc+u/5",
      "include_colab_link": true
    },
    "kernelspec": {
      "name": "python3",
      "display_name": "Python 3"
    },
    "language_info": {
      "name": "python"
    }
  },
  "cells": [
    {
      "cell_type": "markdown",
      "metadata": {
        "id": "view-in-github",
        "colab_type": "text"
      },
      "source": [
        "<a href=\"https://colab.research.google.com/github/rosafigueroaA01748086/CursoIAGH/blob/main/curso_ia.ipynb\" target=\"_parent\"><img src=\"https://colab.research.google.com/assets/colab-badge.svg\" alt=\"Open In Colab\"/></a>"
      ]
    },
    {
      "cell_type": "markdown",
      "source": [
        "Rosa Itzel Figueroa Rosas"
      ],
      "metadata": {
        "id": "w_YCxRk3wNHS"
      }
    },
    {
      "cell_type": "markdown",
      "source": [
        "**RESUMEN**\n",
        "\n",
        "El machine learning se enfoca en desarrollar modelo que tengan la capacidad de aprender y mejorar al realizar tareas específicas.\n",
        "\n",
        "Existen dos tipos de machine learning:\n",
        "1. Clasificación: Encargado de separar los datos en distintos conjuntos\n",
        "\n",
        "2. Regresión: Usado para predecir\n",
        "\n",
        "El deep learning y redes neuronales son modelos de machine learning que tratan de simular el funcionamiento de las \"neuronas\" en el cerebro humano.\n",
        "\n",
        "NLP (Natural Language Processing)\n",
        "Es una área encargada de reconocer, entender, analizar y tratar de inmitar la comunicación como lo harían los humanos, puede ser hablada, escrita o ambas."
      ],
      "metadata": {
        "id": "ZA2Nxyo5uVrg"
      }
    },
    {
      "cell_type": "markdown",
      "source": [
        "**PREGUNTA**\n",
        "\n",
        "***¿Qué tipo de aprendizaje sería ideal para predecir la deserción estudiantil en una universidad? ¿Por qué?***\n",
        "\n",
        "\n",
        "El mejor tipo de aprendizaje para la deserción estudiantil de una universidad puede ser supervisado ya que con el registro historico de los alumnos se puede obtener una conclusión de que tan probable sea su deserción. Pueden usarse sus registro de asistencia, su promedio, su participación a actividades académicas o extracurriculares."
      ],
      "metadata": {
        "id": "9RSgkioetXP0"
      }
    }
  ]
}