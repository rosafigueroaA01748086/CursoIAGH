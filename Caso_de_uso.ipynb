{
  "nbformat": 4,
  "nbformat_minor": 0,
  "metadata": {
    "colab": {
      "provenance": [],
      "authorship_tag": "ABX9TyNKsDKar42JWfSA9uMD++jW",
      "include_colab_link": true
    },
    "kernelspec": {
      "name": "python3",
      "display_name": "Python 3"
    },
    "language_info": {
      "name": "python"
    }
  },
  "cells": [
    {
      "cell_type": "markdown",
      "metadata": {
        "id": "view-in-github",
        "colab_type": "text"
      },
      "source": [
        "<a href=\"https://colab.research.google.com/github/rosafigueroaA01748086/CursoIAGH/blob/main/Caso_de_uso.ipynb\" target=\"_parent\"><img src=\"https://colab.research.google.com/assets/colab-badge.svg\" alt=\"Open In Colab\"/></a>"
      ]
    },
    {
      "cell_type": "markdown",
      "source": [
        "# Regresión Linear Múltiple\n",
        "\n",
        "**Caso de uso**: Predecir el precio un boletos de algún concierto\n",
        "\n",
        "Variable dependiente *y*:\n",
        "- Precio del boleto\n",
        "\n",
        "Variables independientes *x*:\n",
        "- Artista\n",
        "- Lugar del concierto\n",
        "- Capacidad del lugar\n",
        "- Sección de interes\n",
        "- Precio del boleto en otros paises del mismo artista\n",
        "- Precio del boleto en la sección de interés de conciertos anteriores o similares"
      ],
      "metadata": {
        "id": "7EVzNGVqBvYB"
      }
    },
    {
      "cell_type": "code",
      "source": [],
      "metadata": {
        "id": "29csEbJSXo05"
      },
      "execution_count": null,
      "outputs": []
    }
  ]
}