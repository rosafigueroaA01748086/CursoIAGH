{
  "nbformat": 4,
  "nbformat_minor": 0,
  "metadata": {
    "colab": {
      "provenance": [],
      "collapsed_sections": [
        "759SG4TyfbUn",
        "Zj-h4drXD-X9",
        "BY6yifxscfrx",
        "k_ewoagic5jc",
        "70StdqAZa9E9"
      ],
      "include_colab_link": true
    },
    "kernelspec": {
      "name": "python3",
      "display_name": "Python 3"
    },
    "language_info": {
      "name": "python"
    }
  },
  "cells": [
    {
      "cell_type": "markdown",
      "metadata": {
        "id": "view-in-github",
        "colab_type": "text"
      },
      "source": [
        "<a href=\"https://colab.research.google.com/github/rosafigueroaA01748086/CursoIAGH/blob/main/Semillero_IA_%26_Data_NLP_semana_03_Actividad.ipynb\" target=\"_parent\"><img src=\"https://colab.research.google.com/assets/colab-badge.svg\" alt=\"Open In Colab\"/></a>"
      ]
    },
    {
      "cell_type": "markdown",
      "source": [
        "#**Maestría en Inteligencia Artificial Aplicada**\n",
        "##**Curso: Procesamiento de Lenguaje Natural (NLP)**\n",
        "###Tecnológico de Monterrey\n",
        "###Prof Luis Eduardo Falcón Morales\n",
        "\n",
        "## **Adtividad de la Semana 02**\n",
        "###**Introducción al procesamiento de texto.**"
      ],
      "metadata": {
        "id": "759SG4TyfbUn"
      }
    },
    {
      "cell_type": "markdown",
      "source": [
        "En esta actividad deberás utilizar los datos del siguiente archivo que se encuentra en Canvas:\n",
        "\n",
        "MNA_NLP_semana_02_Actividad_datos.txt\n",
        "\n",
        "El archivo contiene comentarios en inglés sobre servicios de comida de la página de Yelp: https://www.yelp.com/ .\n",
        "\n",
        "Son mil comentarios y forman parte del conjunto de datos que se encuentra en el Machine Learning Repository de la UCI, llamado \"Sentiment Labelled Sentences\": https://archive.ics.uci.edu/ml/datasets/Sentiment+Labelled+Sentences#\n"
      ],
      "metadata": {
        "id": "6ue1YAKx3XDo"
      }
    },
    {
      "cell_type": "markdown",
      "source": [
        "#**Parte 1. Cargamos los datos.**   "
      ],
      "metadata": {
        "id": "Zj-h4drXD-X9"
      }
    },
    {
      "cell_type": "markdown",
      "source": [
        "Cargar los datos del archivo indicado y obtener una lista de longitud de 1000 strings/comentarios.\n",
        "\n",
        "Por el momento solamente requerimos las bibliotecas de Numpy y re, para el manejo de los arreglos y de las expresiones regulares en Python.\n",
        "\n",
        "En particular, no necesitarás en esta actividad la biblioteca de Pandas.\n",
        "\n",
        "###**NOTA: En esta actividad no debes importar nada más, con estas dos bibliotecas será *suficiente*.**"
      ],
      "metadata": {
        "id": "BY6yifxscfrx"
      }
    },
    {
      "cell_type": "code",
      "source": [
        "import numpy as np    # importamos Numpy para el manejo de los arreglos.\n",
        "import re             # importamos re para el manejo de las expresiones regulares."
      ],
      "metadata": {
        "id": "OJ26dAfhdFnf"
      },
      "execution_count": 1,
      "outputs": []
    },
    {
      "cell_type": "code",
      "source": [
        "# Ejecuta las siguientes instrucciones para cargar la información del achivo dado:\n",
        "\n",
        "with open('Data_NLP_semana_03_Actividad.txt',        # puedes actualizar la ruta a tu archivo, en dado caso.\n",
        "          mode='r',     # abrimos el archivo en modo lectura.\n",
        "          ) as f:\n",
        "    docs = f.readlines()    # separamos cada comentario por líneas\n",
        "\n",
        "f.close()  # ya que tenemos la información en la variable docs, cerramos el archivo"
      ],
      "metadata": {
        "id": "QHUmJyjDdGNP"
      },
      "execution_count": 5,
      "outputs": []
    },
    {
      "cell_type": "code",
      "source": [
        "type(docs) == list   # Verifica que tu variable \"docs\" es una lista"
      ],
      "metadata": {
        "id": "L6WzrSrodG-Y",
        "colab": {
          "base_uri": "https://localhost:8080/"
        },
        "outputId": "d03ef909-f6df-46e4-f289-ce231400f02c"
      },
      "execution_count": 6,
      "outputs": [
        {
          "output_type": "execute_result",
          "data": {
            "text/plain": [
              "True"
            ]
          },
          "metadata": {},
          "execution_count": 6
        }
      ]
    },
    {
      "cell_type": "code",
      "source": [
        "len(docs)==1000  # verifica que la longitud de \"docs\" es de mil comentarios."
      ],
      "metadata": {
        "id": "QIK1u9WS2FtS",
        "colab": {
          "base_uri": "https://localhost:8080/"
        },
        "outputId": "20d2ce68-c153-4110-a0e0-289e1c1e5ee7"
      },
      "execution_count": 7,
      "outputs": [
        {
          "output_type": "execute_result",
          "data": {
            "text/plain": [
              "True"
            ]
          },
          "metadata": {},
          "execution_count": 7
        }
      ]
    },
    {
      "cell_type": "code",
      "source": [
        "docs[0:10]     # observa algunos de los primeros comentarios"
      ],
      "metadata": {
        "id": "9AMLIfQvJqNZ",
        "colab": {
          "base_uri": "https://localhost:8080/"
        },
        "outputId": "cf6a9f51-3794-464d-b6ac-24a8c409c9a3"
      },
      "execution_count": 8,
      "outputs": [
        {
          "output_type": "execute_result",
          "data": {
            "text/plain": [
              "['Wow... Loved this place.\\n',\n",
              " 'Crust is not good.\\n',\n",
              " 'Not tasty and the texture was just nasty.\\n',\n",
              " 'Stopped by during the late May bank holiday off Rick Steve recommendation and loved it.\\n',\n",
              " 'The selection on the menu was great and so were the prices.\\n',\n",
              " 'Now I am getting angry and I want my damn pho.\\n',\n",
              " \"Honeslty it didn't taste THAT fresh.)\\n\",\n",
              " 'The potatoes were like rubber and you could tell they had been made up ahead of time being kept under a warmer.\\n',\n",
              " 'The fries were great too.\\n',\n",
              " 'A great touch.\\n']"
            ]
          },
          "metadata": {},
          "execution_count": 8
        }
      ]
    },
    {
      "cell_type": "markdown",
      "source": [
        "#**Parte 2: sección de preguntas (regex).**   \n"
      ],
      "metadata": {
        "id": "k_ewoagic5jc"
      }
    },
    {
      "cell_type": "markdown",
      "source": [
        "##**Instrucciones:**\n",
        "\n",
        "###**A continuación deberás contestar cada una de las preguntas que te piden usando expresiones regulares (regex).**\n",
        "\n",
        "###**Por el momento no hay restricción en cuanto al número de líneas de código que agregues, pero trata de incluir las mínimas posibles.**"
      ],
      "metadata": {
        "id": "X-eMJa3DFCIV"
      }
    },
    {
      "cell_type": "markdown",
      "source": [
        "*   **Pregunta 1.**\n",
        "\n",
        "Busca y elimina todos los saltos de línea '\\n' que se encuentran al final de cada comentario.\n",
        "\n",
        "Una vez finalizado, imprime los primeros 10 comentarios del resultado obtenido.\n"
      ],
      "metadata": {
        "id": "78nJMemzn5a5"
      }
    },
    {
      "cell_type": "code",
      "source": [
        "docs = [line.rstrip('\\n') for line in docs]\n"
      ],
      "metadata": {
        "id": "PwbYYIuZn8pE"
      },
      "execution_count": 22,
      "outputs": []
    },
    {
      "cell_type": "code",
      "source": [
        "docs[0:10]"
      ],
      "metadata": {
        "id": "j-0qeh2Jn8l1",
        "colab": {
          "base_uri": "https://localhost:8080/"
        },
        "outputId": "bfd0fcec-3e6e-4f02-e592-457bfc961f82"
      },
      "execution_count": 24,
      "outputs": [
        {
          "output_type": "execute_result",
          "data": {
            "text/plain": [
              "['Wow... Loved this place.',\n",
              " 'Crust is not good.',\n",
              " 'Not tasty and the texture was just nasty.',\n",
              " 'Stopped by during the late May bank holiday off Rick Steve recommendation and loved it.',\n",
              " 'The selection on the menu was great and so were the prices.',\n",
              " 'Now I am getting angry and I want my damn pho.',\n",
              " \"Honeslty it didn't taste THAT fresh.)\",\n",
              " 'The potatoes were like rubber and you could tell they had been made up ahead of time being kept under a warmer.',\n",
              " 'The fries were great too.',\n",
              " 'A great touch.']"
            ]
          },
          "metadata": {},
          "execution_count": 24
        }
      ]
    },
    {
      "cell_type": "markdown",
      "source": [
        "*   **Pregunta 2.**  \n",
        "\n",
        "Busca e imprime todas las palabras que terminan con dos o más signos de admiración seguidos, por ejemplo \"!!!\".\n",
        "\n",
        "Debes imprimir tanto la palabra como la totalidad de signos de admiración que le siguen.\n",
        "\n",
        "Indica cuántos resultados obtuviste.\n",
        "\n"
      ],
      "metadata": {
        "id": "VWeKQC93ctEo"
      }
    },
    {
      "cell_type": "code",
      "source": [
        "resultados = []\n",
        "\n",
        "for linea in docs:\n",
        "    coincidencias = re.findall(r'\\w+(!{2,})', linea)\n",
        "    completas = re.findall(r'\\w+!{2,}', linea)\n",
        "    resultados.extend(completas)\n",
        "\n",
        "for palabra in resultados:\n",
        "    print(palabra)"
      ],
      "metadata": {
        "id": "0p3kMXfddICc",
        "colab": {
          "base_uri": "https://localhost:8080/"
        },
        "outputId": "15527001-9ee2-4ca7-d28c-2d29b30c49e6"
      },
      "execution_count": 28,
      "outputs": [
        {
          "output_type": "stream",
          "name": "stdout",
          "text": [
            "Firehouse!!!!!\n",
            "APPETIZERS!!!\n",
            "amazing!!!\n",
            "buffet!!!\n",
            "good!!\n",
            "it!!!!\n",
            "DELICIOUS!!\n",
            "amazing!!\n",
            "shawarrrrrrma!!!!!!\n",
            "yucky!!!\n",
            "steak!!!!!\n",
            "delicious!!!\n",
            "far!!\n",
            "biscuits!!!\n",
            "dry!!\n",
            "disappointing!!!\n",
            "awesome!!\n",
            "Up!!\n",
            "FLY!!!!!!!!\n",
            "here!!!\n",
            "great!!!!!!!!!!!!!!\n",
            "packed!!\n",
            "otherwise!!\n",
            "amazing!!!!!!!!!!!!!!!!!!!\n",
            "style!!\n",
            "disappointed!!\n"
          ]
        }
      ]
    },
    {
      "cell_type": "code",
      "source": [
        "print(f'Total de palabras encontradas: {len(resultados)}')"
      ],
      "metadata": {
        "id": "SPVM1MCWdH6Z",
        "colab": {
          "base_uri": "https://localhost:8080/"
        },
        "outputId": "ffc35bbc-dd44-41df-8d53-d6129e145e41"
      },
      "execution_count": 29,
      "outputs": [
        {
          "output_type": "stream",
          "name": "stdout",
          "text": [
            "Total de palabras encontradas: 26\n"
          ]
        }
      ]
    },
    {
      "cell_type": "markdown",
      "source": [
        "*   **Pregunta 3.**  \n",
        "\n",
        "Busca e imprime todas las palabras que están escritas totalmente en mayúsculas. Cada coincidencia debe ser una sola palabra.\n",
        "\n",
        "Indica cuántas palabras encontraste.\n",
        "\n"
      ],
      "metadata": {
        "id": "-s3okBqL96TT"
      }
    },
    {
      "cell_type": "code",
      "source": [
        "mayusculas = []\n",
        "\n",
        "for linea in docs:\n",
        "    coincidencias = re.findall(r'\\b[A-Z]{2,}\\b', linea)\n",
        "    mayusculas.extend(coincidencias)\n",
        "\n",
        "for palabra in mayusculas:\n",
        "    print(palabra)"
      ],
      "metadata": {
        "id": "yKHJkZKo_nW5",
        "colab": {
          "base_uri": "https://localhost:8080/"
        },
        "outputId": "74461e5e-1c8e-40a9-9eb4-4e085910b163"
      },
      "execution_count": 36,
      "outputs": [
        {
          "output_type": "stream",
          "name": "stdout",
          "text": [
            "THAT\n",
            "APPETIZERS\n",
            "WILL\n",
            "NEVER\n",
            "EVER\n",
            "STEP\n",
            "FORWARD\n",
            "IN\n",
            "IT\n",
            "AGAIN\n",
            "LOVED\n",
            "AND\n",
            "REAL\n",
            "BITCHES\n",
            "NYC\n",
            "STALE\n",
            "DELICIOUS\n",
            "WORST\n",
            "EXPERIENCE\n",
            "EVER\n",
            "ALL\n",
            "BARGAIN\n",
            "TV\n",
            "NONE\n",
            "FREEZING\n",
            "AYCE\n",
            "FLAVOR\n",
            "NEVER\n",
            "BBQ\n",
            "UNREAL\n",
            "OMG\n",
            "BETTER\n",
            "BLAND\n",
            "RUDE\n",
            "INCONSIDERATE\n",
            "MANAGEMENT\n",
            "WILL\n",
            "NEVER\n",
            "EVER\n",
            "GO\n",
            "BACK\n",
            "AND\n",
            "HAVE\n",
            "TOLD\n",
            "MANY\n",
            "PEOPLE\n",
            "WHAT\n",
            "HAD\n",
            "HAPPENED\n",
            "TOTAL\n",
            "WASTE\n",
            "OF\n",
            "TIME\n",
            "FS\n",
            "AZ\n",
            "LOVED\n",
            "CONCLUSION\n",
            "BEST\n",
            "GO\n",
            "NOW\n",
            "GC\n",
            "AVOID\n",
            "THIS\n",
            "ESTABLISHMENT\n",
            "AN\n",
            "HOUR\n",
            "NASTY\n",
            "OMG\n",
            "NO\n",
            "BEST\n",
            "THE\n",
            "OWNERS\n",
            "REALLY\n",
            "REALLY\n",
            "PERFECT\n",
            "SCREAMS\n",
            "LEGIT\n",
            "MGM\n",
            "BEST\n",
            "FLY\n",
            "FLY\n",
            "FANTASTIC\n",
            "GREAT\n",
            "OK\n",
            "WAY\n",
            "MUST\n",
            "HAVE\n",
            "OK\n",
            "OVERPRICED\n",
            "BARE\n",
            "HANDS\n",
            "WEAK\n",
            "SHOULD\n",
            "RI\n",
            "VERY\n",
            "NOT\n"
          ]
        }
      ]
    },
    {
      "cell_type": "code",
      "source": [
        "print(f'Total de palabras en mayúsculas: {len(mayusculas)}')"
      ],
      "metadata": {
        "id": "L3q08aq69sNn",
        "colab": {
          "base_uri": "https://localhost:8080/"
        },
        "outputId": "765412a5-cee8-4699-ca6c-f10e680653ff"
      },
      "execution_count": 37,
      "outputs": [
        {
          "output_type": "stream",
          "name": "stdout",
          "text": [
            "Total de palabras en mayúsculas: 96\n"
          ]
        }
      ]
    },
    {
      "cell_type": "markdown",
      "source": [
        "*   **Pregunta 4.**  \n",
        "\n",
        "Busca e imprime los comentarios en donde todos los caracteres alfabéticos (letras) están en mayúsculas.\n",
        "\n",
        "Cada coincidencia encontrada debe ser todo el comentario/enunciado.\n",
        "\n",
        "Indica cuántos resultados obtuviste.\n"
      ],
      "metadata": {
        "id": "GX8eYyDoMZma"
      }
    },
    {
      "cell_type": "code",
      "source": [
        "solo_mayus = []\n",
        "\n",
        "for linea in docs:\n",
        "    if re.fullmatch(r'[^a-z]*', linea):\n",
        "        solo_mayus.append(linea)\n",
        "\n",
        "for comentario in solo_mayus:\n",
        "    print(comentario)"
      ],
      "metadata": {
        "id": "K8VuZxvTMYj6",
        "colab": {
          "base_uri": "https://localhost:8080/"
        },
        "outputId": "752d0acb-97d3-4aa2-b786-284a4182f549"
      },
      "execution_count": 39,
      "outputs": [
        {
          "output_type": "stream",
          "name": "stdout",
          "text": [
            "DELICIOUS!!\n",
            "RUDE & INCONSIDERATE MANAGEMENT.\n",
            "WILL NEVER EVER GO BACK AND HAVE TOLD MANY PEOPLE WHAT HAD HAPPENED.\n",
            "TOTAL WASTE OF TIME.\n",
            "AVOID THIS ESTABLISHMENT!\n"
          ]
        }
      ]
    },
    {
      "cell_type": "code",
      "source": [
        "print(f'Total de comentarios con letras solo en mayúsculas: {len(solo_mayus)}')"
      ],
      "metadata": {
        "id": "PmKgX7sCMcDx",
        "colab": {
          "base_uri": "https://localhost:8080/"
        },
        "outputId": "31c877ec-51e5-46d6-dfc8-ff7bc5c93b5e"
      },
      "execution_count": 40,
      "outputs": [
        {
          "output_type": "stream",
          "name": "stdout",
          "text": [
            "Total de comentarios con letras solo en mayúsculas: 5\n"
          ]
        }
      ]
    },
    {
      "cell_type": "markdown",
      "source": [
        "*   **Pregunta 5.**  \n",
        "\n",
        "Busca e imprime todas las palabras que tengan una vocal acentuada, del tipo á, é, í, ó, ú.\n",
        "\n",
        "Indica cuántos resultados obtuviste."
      ],
      "metadata": {
        "id": "a1i6qv7-McmU"
      }
    },
    {
      "cell_type": "code",
      "source": [
        "acentuadas = []\n",
        "\n",
        "for linea in docs:\n",
        "    coincidencias = re.findall(r'\\b\\w*[áéíóúÁÉÍÓÚ]\\w*\\b', linea)\n",
        "    acentuadas.extend(coincidencias)\n",
        "\n",
        "for palabra in acentuadas:\n",
        "    print(palabra)"
      ],
      "metadata": {
        "id": "nZZ5zKUOMeGD",
        "colab": {
          "base_uri": "https://localhost:8080/"
        },
        "outputId": "0c878b27-e998-44d9-a5d0-32fadf76c6a5"
      },
      "execution_count": 50,
      "outputs": [
        {
          "output_type": "stream",
          "name": "stdout",
          "text": [
            "fiancé\n",
            "Café\n",
            "puréed\n"
          ]
        }
      ]
    },
    {
      "cell_type": "code",
      "source": [
        "print(f'Total de comentarios con letras con vocal acentuada: {len(acentuadas)}')"
      ],
      "metadata": {
        "id": "l1mFvUEZMe8s",
        "colab": {
          "base_uri": "https://localhost:8080/"
        },
        "outputId": "a89e4765-00b4-4c4e-c4ba-7ec281ed9bd3"
      },
      "execution_count": 51,
      "outputs": [
        {
          "output_type": "stream",
          "name": "stdout",
          "text": [
            "Total de comentarios con letras con vocal acentuada: 3\n"
          ]
        }
      ]
    },
    {
      "cell_type": "markdown",
      "source": [
        "*   **Pregunta 6.**  \n",
        "\n",
        "Busca e imprime todas las cantidades numéricas monetarias, enteras o con decimales, que inician con el símbolo $\\$$.\n",
        "\n",
        "Indica cuántos resultados obtuviste."
      ],
      "metadata": {
        "id": "ZmPiAI82Mfb3"
      }
    },
    {
      "cell_type": "code",
      "source": [
        "monetarias = []\n",
        "\n",
        "for linea in docs:\n",
        "    coincidencias = re.findall(r'\\$\\d+(?:\\.\\d+)?', linea)\n",
        "    monetarias.extend(coincidencias)\n",
        "\n",
        "for palabra in monetarias:\n",
        "    print(palabra)"
      ],
      "metadata": {
        "id": "6vhe9-Y-MhL9",
        "colab": {
          "base_uri": "https://localhost:8080/"
        },
        "outputId": "d31fb6fc-1032-46fe-b50d-bcc89c7f51cf"
      },
      "execution_count": 55,
      "outputs": [
        {
          "output_type": "stream",
          "name": "stdout",
          "text": [
            "$20\n",
            "$4.00\n",
            "$17\n",
            "$3\n",
            "$35\n",
            "$7.85\n",
            "$12\n",
            "$11.99\n"
          ]
        }
      ]
    },
    {
      "cell_type": "code",
      "source": [
        "print(f'Total de comentarios con cantidades numericas monetarias: {len(monetarias)}')"
      ],
      "metadata": {
        "id": "_t0a5xWDMhQ5",
        "colab": {
          "base_uri": "https://localhost:8080/"
        },
        "outputId": "06141af8-6b6f-467e-d7e0-8e430b16a041"
      },
      "execution_count": 57,
      "outputs": [
        {
          "output_type": "stream",
          "name": "stdout",
          "text": [
            "Total de comentarios con cantidades numericas monetarias: 8\n"
          ]
        }
      ]
    },
    {
      "cell_type": "markdown",
      "source": [
        "*   **Pregunta 7.**  \n",
        "\n",
        "Busca e imprime todas las palabras que sean variantes de la palabra \"love\", sin importar si incluyen mayúsculas o minúsculas, o la manera en que esté conjugada o alguna otra variación que se haga con dicha palabra.\n",
        "\n",
        "Indica cuántos resultados obtuviste."
      ],
      "metadata": {
        "id": "2j-HpvhwMhq2"
      }
    },
    {
      "cell_type": "code",
      "source": [
        "love = []\n",
        "\n",
        "for linea in docs:\n",
        "    coincidencias = re.findall(r'\\blov\\w*\\b', linea)\n",
        "    love.extend(coincidencias)\n",
        "\n",
        "for palabra in love:\n",
        "    print(palabra)"
      ],
      "metadata": {
        "id": "kqqyRChVMjol",
        "colab": {
          "base_uri": "https://localhost:8080/"
        },
        "outputId": "18350334-09df-4d0a-eaaf-02bb7f7884c0"
      },
      "execution_count": 59,
      "outputs": [
        {
          "output_type": "stream",
          "name": "stdout",
          "text": [
            "loved\n",
            "love\n",
            "loves\n",
            "lovers\n",
            "loving\n",
            "love\n",
            "lovers\n",
            "loved\n",
            "loved\n",
            "love\n",
            "love\n",
            "love\n",
            "loved\n",
            "love\n",
            "loved\n",
            "love\n",
            "lovely\n",
            "love\n",
            "lovely\n",
            "love\n",
            "lover\n",
            "loved\n",
            "love\n",
            "love\n",
            "love\n",
            "love\n",
            "love\n",
            "love\n",
            "love\n",
            "love\n"
          ]
        }
      ]
    },
    {
      "cell_type": "code",
      "source": [
        "print(f'Total de comentarios con variantes de love: {len(love)}')"
      ],
      "metadata": {
        "id": "UXd0VQluMj_x",
        "colab": {
          "base_uri": "https://localhost:8080/"
        },
        "outputId": "954d45bf-af63-4a2f-cd71-403775a005fb"
      },
      "execution_count": 60,
      "outputs": [
        {
          "output_type": "stream",
          "name": "stdout",
          "text": [
            "Total de comentarios con variantes de love: 30\n"
          ]
        }
      ]
    },
    {
      "cell_type": "markdown",
      "source": [
        "*   **Pregunta 8.**  \n",
        "\n",
        "Busca e imprime todas las palabras, variantes de \"so\" y \"good\", que tengan dos o más \"o\" en \"so\" y 3 o más \"o\" en good.\n",
        "\n",
        "Indica cuántas encontraste.\n"
      ],
      "metadata": {
        "id": "Ctb-NTY3MkYG"
      }
    },
    {
      "cell_type": "code",
      "source": [
        "variantes = []\n",
        "\n",
        "for linea in docs:\n",
        "    coincidencias = re.findall(r'\\bso{2,}\\b|\\bgo{3,}d\\b', linea, re.IGNORECASE)\n",
        "    variantes.extend(coincidencias)\n",
        "\n",
        "for palabra in variantes:\n",
        "    print(palabra)\n"
      ],
      "metadata": {
        "id": "A8Nf3B_cMlqg",
        "colab": {
          "base_uri": "https://localhost:8080/"
        },
        "outputId": "50820bf4-e632-4073-bca3-d3a34e896d85"
      },
      "execution_count": 61,
      "outputs": [
        {
          "output_type": "stream",
          "name": "stdout",
          "text": [
            "Sooooo\n",
            "soooo\n",
            "soooooo\n",
            "soooo\n"
          ]
        }
      ]
    },
    {
      "cell_type": "code",
      "source": [
        "print(f'Total de variantes encontradas: {len(variantes)}')"
      ],
      "metadata": {
        "id": "svS4-vvPMl6f",
        "colab": {
          "base_uri": "https://localhost:8080/"
        },
        "outputId": "a59a0ff8-1522-435e-81a5-e4c18e49ef40"
      },
      "execution_count": 62,
      "outputs": [
        {
          "output_type": "stream",
          "name": "stdout",
          "text": [
            "\n",
            "Total de variantes encontradas: 4\n"
          ]
        }
      ]
    },
    {
      "cell_type": "markdown",
      "source": [
        "*   **Pregunta 9.**  \n",
        "\n",
        "Busca e imprime todas las palabras que tengan una longitud mayor estrictamente a 10 caracteres alfabéticos.\n",
        "\n",
        "No se consideran los signos de puntuación o caracteres especiales en la longitud de estas cadenas, solo caracteres alfabéticos en mayúsculas o minúsculas.\n",
        "\n",
        "Indica la cantidad de palabras encontradas.\n"
      ],
      "metadata": {
        "id": "hkak1opjMmlk"
      }
    },
    {
      "cell_type": "code",
      "source": [
        "largas = []\n",
        "\n",
        "for linea in docs:\n",
        "    coincidencias = re.findall(r'\\b\\w{10,}\\b', linea, re.IGNORECASE)\n",
        "    largas.extend(coincidencias)\n",
        "\n",
        "for palabra in largas:\n",
        "    print(palabra)"
      ],
      "metadata": {
        "id": "PYxdp3uhMoD0",
        "colab": {
          "base_uri": "https://localhost:8080/"
        },
        "outputId": "6b8060e0-3fe1-429a-a9ba-fe66ca9fa8bf"
      },
      "execution_count": 64,
      "outputs": [
        {
          "output_type": "stream",
          "name": "stdout",
          "text": [
            "recommendation\n",
            "overpriced\n",
            "recommended\n",
            "restaurant\n",
            "overwhelmed\n",
            "restaurant\n",
            "inexpensive\n",
            "establishment\n",
            "refreshing\n",
            "sunglasses\n",
            "imaginative\n",
            "absolutely\n",
            "restaurant\n",
            "APPETIZERS\n",
            "definitely\n",
            "apparently\n",
            "opportunity\n",
            "experiencing\n",
            "underwhelming\n",
            "relationship\n",
            "unsatisfying\n",
            "Everything\n",
            "disappointing\n",
            "experience\n",
            "outrageously\n",
            "Tigerlilly\n",
            "personable\n",
            "restaurant\n",
            "definitely\n",
            "atmosphere\n",
            "experience\n",
            "disappointing\n",
            "Phenomenal\n",
            "Definitely\n",
            "overpriced\n",
            "management\n",
            "selections\n",
            "expectations\n",
            "restaurants\n",
            "suggestions\n",
            "disappointed\n",
            "considering\n",
            "restaurant\n",
            "highlights\n",
            "Unfortunately\n",
            "everything\n",
            "immediately\n",
            "reasonably\n",
            "Restaurant\n",
            "ingredients\n",
            "waitresses\n",
            "Everything\n",
            "accommodations\n",
            "vegetarian\n",
            "atmosphere\n",
            "maintaining\n",
            "definitely\n",
            "absolutely\n",
            "overcooked\n",
            "incredible\n",
            "Interesting\n",
            "disrespected\n",
            "EXPERIENCE\n",
            "accordingly\n",
            "unbelievable\n",
            "uninspired\n",
            "experience\n",
            "cheeseburger\n",
            "descriptions\n",
            "flavourful\n",
            "restaurant\n",
            "privileged\n",
            "complaints\n",
            "godfathers\n",
            "restaurant\n",
            "atmosphere\n",
            "inexpensive\n",
            "absolutely\n",
            "proclaimed\n",
            "disappointed\n",
            "Veggitarian\n",
            "outstanding\n",
            "recommendation\n",
            "disappointed\n",
            "restaurant\n",
            "definitely\n",
            "disappointed\n",
            "incredible\n",
            "neighborhood\n",
            "disappointed\n",
            "convenient\n",
            "incredibly\n",
            "everything\n",
            "corporation\n",
            "delightful\n",
            "reasonable\n",
            "considering\n",
            "exceptional\n",
            "shawarrrrrrma\n",
            "disappointed\n",
            "vinaigrette\n",
            "restaurant\n",
            "especially\n",
            "immediately\n",
            "unbelievably\n",
            "atmosphere\n",
            "Everything\n",
            "replenished\n",
            "disappointed\n",
            "whatsoever\n",
            "vegetables\n",
            "atmosphere\n",
            "appetizers\n",
            "enthusiastic\n",
            "Outstanding\n",
            "restaurant\n",
            "Definitely\n",
            "despicable\n",
            "comfortable\n",
            "interesting\n",
            "INCONSIDERATE\n",
            "MANAGEMENT\n",
            "outshining\n",
            "definitely\n",
            "experience\n",
            "experience\n",
            "reasonable\n",
            "considering\n",
            "incredible\n",
            "transcendant\n",
            "atmosphere\n",
            "perfection\n",
            "impeccable\n",
            "disappointment\n",
            "disappointed\n",
            "accountant\n",
            "frustrated\n",
            "definitely\n",
            "disappointed\n",
            "completely\n",
            "overwhelmed\n",
            "professional\n",
            "companions\n",
            "everything\n",
            "everywhere\n",
            "Furthermore\n",
            "complaints\n",
            "connisseur\n",
            "restaurant\n",
            "absolutley\n",
            "definitely\n",
            "restaurant\n",
            "combination\n",
            "connoisseur\n",
            "definitely\n",
            "difference\n",
            "Definitely\n",
            "profiterole\n",
            "outstanding\n",
            "reasonable\n",
            "acknowledged\n",
            "forgetting\n",
            "margaritas\n",
            "disappoint\n",
            "ventilation\n",
            "beautifully\n",
            "definitely\n",
            "absolutely\n",
            "restaurant\n",
            "establishment\n",
            "extraordinary\n",
            "humiliated\n",
            "CONCLUSION\n",
            "experience\n",
            "incredible\n",
            "Thoroughly\n",
            "disappointed\n",
            "cheesecurds\n",
            "Reasonably\n",
            "Everything\n",
            "disappointed\n",
            "restaurant\n",
            "Everything\n",
            "interesting\n",
            "management\n",
            "restaurant\n",
            "experienced\n",
            "opportunity\n",
            "yellowtail\n",
            "disgraceful\n",
            "experience\n",
            "particular\n",
            "restaurants\n",
            "ESTABLISHMENT\n",
            "restaurant\n",
            "vinegrette\n",
            "disgusting\n",
            "recommended\n",
            "management\n",
            "disappointed\n",
            "recommended\n",
            "acknowledged\n",
            "presentation\n",
            "accomodate\n",
            "Philadelphia\n",
            "satisfying\n",
            "Scottsdale\n",
            "disappointed\n",
            "definitely\n",
            "businesses\n",
            "experience\n",
            "disappointing\n",
            "management\n",
            "grandmother\n",
            "especially\n",
            "drastically\n",
            "impeccable\n",
            "informative\n",
            "Experience\n",
            "Disappointed\n",
            "constructed\n",
            "comfortable\n",
            "restaurant\n",
            "experience\n",
            "atmosphere\n",
            "violinists\n",
            "personally\n",
            "convenient\n",
            "perfection\n",
            "Smashburger\n",
            "disappoint\n",
            "cheeseburger\n",
            "neighborhood\n",
            "themselves\n",
            "atmosphere\n",
            "reasonable\n",
            "soundtrack\n",
            "absolutely\n",
            "definitely\n",
            "disappointed\n",
            "definitely\n",
            "hospitality\n",
            "recommending\n",
            "atmosphere\n",
            "atmosphere\n",
            "disappointed\n",
            "everything\n",
            "deliciously\n",
            "compliments\n",
            "recommendation\n",
            "definitely\n",
            "establishment\n",
            "revisiting\n",
            "restaurant\n",
            "experience\n",
            "calligraphy\n",
            "restaurant\n",
            "restaurant\n",
            "vegetarian\n",
            "management\n",
            "vinegrette\n",
            "definitely\n",
            "definately\n",
            "affordable\n",
            "absolutely\n",
            "traditional\n",
            "bartenders\n",
            "absolutely\n",
            "margaritas\n",
            "restaraunt\n",
            "combination\n",
            "girlfriend\n",
            "Unfortunately\n",
            "experience\n",
            "flavorless\n",
            "describing\n",
            "everything\n",
            "atmosphere\n",
            "Wienerschnitzel\n",
            "vegetables\n",
            "overcooked\n",
            "unfortunately\n",
            "bruschetta\n",
            "mozzarella\n",
            "experience\n",
            "overpriced\n",
            "consistent\n",
            "OVERPRICED\n",
            "officially\n",
            "definitely\n",
            "containers\n",
            "experience\n",
            "considering\n",
            "overpriced\n",
            "especially\n",
            "reasonable\n",
            "restaurant\n",
            "Everything\n",
            "sandwiches\n",
            "everything\n",
            "restaurant\n",
            "highlighted\n",
            "completely\n",
            "delightful\n",
            "experience\n",
            "flavorless\n",
            "definately\n",
            "Albondigas\n",
            "absolutely\n",
            "Mediterranean\n",
            "selections\n",
            "strawberry\n",
            "unprofessional\n",
            "experience\n",
            "satisfying\n",
            "occasional\n",
            "anticipated\n",
            "disappointing\n",
            "unexperienced\n",
            "disrespected\n",
            "steakhouse\n",
            "understand\n",
            "experience\n",
            "disgusting\n",
            "professional\n",
            "restaurants\n",
            "definitely\n",
            "Disappointing\n",
            "experience\n",
            "WAAAAAAyyyyyyyyyy\n",
            "ridiculous\n",
            "reservation\n",
            "imagination\n",
            "vegetables\n",
            "undercooked\n",
            "disappointed\n",
            "overpriced\n",
            "Vegetarian\n",
            "disappointment\n",
            "disappointment\n",
            "deuchebaggery\n",
            "disappointed\n",
            "disappointment\n",
            "restaurant\n",
            "immediately\n",
            "Unfortunately\n",
            "disapppointment\n",
            "correction\n",
            "Overpriced\n",
            "circumstances\n",
            "restaurant\n",
            "vegetables\n",
            "undercooked\n",
            "impressive\n",
            "caterpillar\n",
            "presentation\n",
            "disappointed\n",
            "experience\n",
            "underwhelming\n"
          ]
        }
      ]
    },
    {
      "cell_type": "code",
      "source": [
        "print(f'Total de palabras con mas de 10 caracteres encontradas: {len(largas)}')"
      ],
      "metadata": {
        "id": "BR7e2F4FMof-",
        "colab": {
          "base_uri": "https://localhost:8080/"
        },
        "outputId": "7000acbe-82d1-4243-b0a8-e551a25b4292"
      },
      "execution_count": 66,
      "outputs": [
        {
          "output_type": "stream",
          "name": "stdout",
          "text": [
            "Total de palabras con mas de 10 caracteres encontradas: 359\n"
          ]
        }
      ]
    },
    {
      "cell_type": "markdown",
      "source": [
        "*   **Pregunta 10.**  \n",
        "\n",
        "Busca e imprime todas las palabras que inician con una letra mayúscula y terminan con una minúscula, pero que además no sea la primera palabra del comentario/string.\n",
        "\n",
        "Indica la cantidad de resultados obtenidos."
      ],
      "metadata": {
        "id": "ApjTNzSxMpDc"
      }
    },
    {
      "cell_type": "code",
      "source": [
        "listap = []\n",
        "\n",
        "for linea in docs:\n",
        "    palabras = linea.split()\n",
        "\n",
        "    for palabra in palabras[1:]:\n",
        "        if re.fullmatch(r'[A-Z][a-z]*[a-z]', palabra):\n",
        "            listap.append(palabra)\n",
        "for palabra in listap:\n",
        "    print(palabra)"
      ],
      "metadata": {
        "id": "Vb0ndRGAMqdL",
        "colab": {
          "base_uri": "https://localhost:8080/"
        },
        "outputId": "0abf2e65-36bb-4971-ae78-20cd60dd79db"
      },
      "execution_count": 68,
      "outputs": [
        {
          "output_type": "stream",
          "name": "stdout",
          "text": [
            "Loved\n",
            "May\n",
            "Rick\n",
            "Steve\n",
            "Cape\n",
            "Cod\n",
            "Burrittos\n",
            "The\n",
            "They\n",
            "Mexican\n",
            "Luke\n",
            "Our\n",
            "Hiro\n",
            "Greek\n",
            "Greek\n",
            "Heart\n",
            "Attack\n",
            "Grill\n",
            "Vegas\n",
            "Dos\n",
            "Jeff\n",
            "Very\n",
            "Bad\n",
            "Customer\n",
            "Service\n",
            "Vegas\n",
            "Rice\n",
            "Pho\n",
            "Hard\n",
            "Rock\n",
            "Casino\n",
            "Buffet\n",
            "Tigerlilly\n",
            "Yama\n",
            "Thai\n",
            "Indian\n",
            "Not\n",
            "Lox\n",
            "Subway\n",
            "Mandalay\n",
            "Great\n",
            "Voodoo\n",
            "Phoenix\n",
            "Vegas\n",
            "Khao\n",
            "Soi\n",
            "Lemon\n",
            "Valley\n",
            "Phoenix\n",
            "Fridays\n",
            "Jamaican\n",
            "Bussell\n",
            "Filet\n",
            "Otto\n",
            "Not\n",
            "Greek\n",
            "Veggitarian\n",
            "Madison\n",
            "Jenni\n",
            "Bachi\n",
            "Burger\n",
            "Pizza\n",
            "They\n",
            "Bachi\n",
            "English\n",
            "Pizza\n",
            "Hut\n",
            "Seat\n",
            "Gordon\n",
            "Steak\n",
            "Outstanding\n",
            "Best\n",
            "Food\n",
            "Lobster\n",
            "Bisque\n",
            "Eggplant\n",
            "Green\n",
            "Bean\n",
            "Vegas\n",
            "Vegas\n",
            "Crystals\n",
            "Ians\n",
            "San\n",
            "Francisco\n",
            "Bay\n",
            "Buldogis\n",
            "Gourmet\n",
            "Hot\n",
            "Dog\n",
            "Steiners\n",
            "Vegas\n",
            "Camelback\n",
            "Flower\n",
            "Shop\n",
            "Cartel\n",
            "Las\n",
            "Very\n",
            "Vegas\n",
            "Mexican\n",
            "Perfect\n",
            "Vegas\n",
            "This\n",
            "Thai\n",
            "Thai\n",
            "Crema\n",
            "North\n",
            "Bloody\n",
            "Pho\n",
            "Caesar\n",
            "Macarons\n",
            "Very\n",
            "Disappointed\n",
            "Big\n",
            "Bay\n",
            "Italian\n",
            "Baba\n",
            "Ganoush\n",
            "Smashburger\n",
            "Panna\n",
            "Cotta\n",
            "Mango\n",
            "Pineapple\n",
            "Delight\n",
            "The\n",
            "Strip\n",
            "Paradise\n",
            "Valley\n",
            "Cibo\n",
            "Thumbs\n",
            "Italian\n",
            "Pros\n",
            "Large\n",
            "Nice\n",
            "Great\n",
            "The\n",
            "Elk\n",
            "Filet\n",
            "Dylan\n",
            "All\n",
            "Han\n",
            "Nan\n",
            "Chicken\n",
            "Bar\n",
            "Edinburgh\n",
            "Chinese\n",
            "Indian\n",
            "Chinese\n",
            "Prices\n",
            "Phoenix\n",
            "Both\n",
            "Hot\n",
            "Sour\n",
            "Egg\n",
            "Flower\n",
            "Soups\n",
            "Sunday\n",
            "Hunan\n",
            "The\n",
            "Pita\n",
            "Wienerschnitzel\n",
            "Maine\n",
            "Lobster\n",
            "Roll\n",
            "Kabuki\n",
            "Maria\n",
            "Wife\n",
            "To\n",
            "Place\n",
            "Japanese\n",
            "Albondigas\n",
            "Mediterranean\n",
            "Chicken\n",
            "Salad\n",
            "Mellow\n",
            "Thai\n",
            "Vegas\n",
            "Buffet\n",
            "Bellagio\n",
            "Vegas\n",
            "Christmas\n",
            "Eve\n",
            "Vegetarian\n",
            "Taco\n",
            "Heimer\n",
            "Ha\n",
            "Long\n",
            "Bay\n",
            "Subway\n",
            "When\n",
            "In\n",
            "Ninja\n",
            "Sushi\n"
          ]
        }
      ]
    },
    {
      "cell_type": "code",
      "source": [
        "print(f'Total de palabras encontradas: {len(listap)}')"
      ],
      "metadata": {
        "id": "dLPTRPnTMqqx",
        "colab": {
          "base_uri": "https://localhost:8080/"
        },
        "outputId": "32fe0e88-15dd-4ba4-9fef-a55e8f6b3773"
      },
      "execution_count": 69,
      "outputs": [
        {
          "output_type": "stream",
          "name": "stdout",
          "text": [
            "\n",
            "Total de palabras encontradas: 192\n"
          ]
        }
      ]
    },
    {
      "cell_type": "markdown",
      "source": [
        "*   **Pregunta 11.**  \n",
        "\n",
        "Busca e imprime la secuencia de dos o más palabras que están separadas por un guion, \"-\", sin que tengan espacios en blanco entre ellas.\n",
        "\n",
        "Por ejemplo \"Go-Kart\" sería válido, pero \"Go  -Kart\" o \"Go  -  Kart\" no lo serían.\n",
        "\n",
        "Indica la cantidad de resultados obtenidos."
      ],
      "metadata": {
        "id": "u7nfm4KhMrNW"
      }
    },
    {
      "cell_type": "code",
      "source": [
        "listap = []\n",
        "\n",
        "for linea in docs:\n",
        "    palabras = linea.split()\n",
        "\n",
        "    for palabra in palabras[1:]:\n",
        "        if re.fullmatch(r'[A-Z][a-z]*[a-z]', palabra):\n",
        "            listap.append(palabra)\n",
        "for palabra in listap:\n",
        "    print(palabra)"
      ],
      "metadata": {
        "id": "OwU-a7eGMsub"
      },
      "execution_count": null,
      "outputs": []
    },
    {
      "cell_type": "code",
      "source": [],
      "metadata": {
        "id": "SgzIL74ZMtGw"
      },
      "execution_count": null,
      "outputs": []
    },
    {
      "cell_type": "markdown",
      "source": [
        "*   **Pregunta 12.**  \n",
        "\n",
        "Busca e imprime todas las palabras que terminan en \"ing\" o \"ed\".\n",
        "\n",
        "Indica la cantidad de palabras que encontraste de cada una."
      ],
      "metadata": {
        "id": "DEIgl79HMthr"
      }
    },
    {
      "cell_type": "code",
      "source": [
        "terminacion = []\n",
        "\n",
        "for linea in docs:\n",
        "    palabras = linea.split()\n",
        "\n",
        "    for palabra in palabras[1:]:\n",
        "        if re.fullmatch(r'\\b\\w+(?:ing|ed)\\b', palabra):\n",
        "            terminacion.append(palabra)\n",
        "for palabra in terminacion:\n",
        "    print(palabra)"
      ],
      "metadata": {
        "id": "I4TSofBMMv9y",
        "colab": {
          "base_uri": "https://localhost:8080/"
        },
        "outputId": "1c2a2263-0a37-44ab-ff07-a08e943c98bd"
      },
      "execution_count": 75,
      "outputs": [
        {
          "output_type": "stream",
          "name": "stdout",
          "text": [
            "Loved\n",
            "during\n",
            "loved\n",
            "getting\n",
            "being\n",
            "ended\n",
            "being\n",
            "tried\n",
            "disgusted\n",
            "shocked\n",
            "red\n",
            "asked\n",
            "running\n",
            "redeeming\n",
            "grossed\n",
            "melted\n",
            "getting\n",
            "provided\n",
            "thing\n",
            "cooked\n",
            "dressing\n",
            "ordered\n",
            "running\n",
            "realized\n",
            "ripped\n",
            "petrified\n",
            "amazing\n",
            "included\n",
            "nothing\n",
            "appalling\n",
            "seasoned\n",
            "cheated\n",
            "wasting\n",
            "eating\n",
            "going\n",
            "experiencing\n",
            "underwhelming\n",
            "smelled\n",
            "raving\n",
            "tailored\n",
            "spring\n",
            "disappointing\n",
            "dining\n",
            "flirting\n",
            "arrived\n",
            "roasted\n",
            "added\n",
            "thing\n",
            "cooked\n",
            "passed\n",
            "ordering\n",
            "liked\n",
            "managed\n",
            "served\n",
            "preparing\n",
            "loving\n",
            "liking\n",
            "venturing\n",
            "overpriced\n",
            "including\n",
            "during\n",
            "checked\n",
            "disappointed\n",
            "red\n",
            "going\n",
            "considering\n",
            "served\n",
            "coming\n",
            "watched\n",
            "greeted\n",
            "seated\n",
            "waited\n",
            "ordered\n",
            "going\n",
            "everything\n",
            "ordered\n",
            "relocated\n",
            "seated\n",
            "looking\n",
            "treated\n",
            "ordered\n",
            "dressing\n",
            "dining\n",
            "used\n",
            "handed\n",
            "missed\n",
            "thrilled\n",
            "amazing\n",
            "judging\n",
            "inspired\n",
            "maintaining\n",
            "asking\n",
            "overcooked\n",
            "decided\n",
            "looked\n",
            "having\n",
            "dressed\n",
            "treated\n",
            "something\n",
            "lacking\n",
            "ordered\n",
            "expected\n",
            "sucked\n",
            "served\n",
            "preparing\n",
            "feeling\n",
            "voted\n",
            "insulted\n",
            "exceeding\n",
            "dreamed\n",
            "lived\n",
            "stepped\n",
            "mixed\n",
            "showed\n",
            "climbing\n",
            "waiting\n",
            "realized\n",
            "coming\n",
            "loved\n",
            "being\n",
            "needed\n",
            "going\n",
            "loved\n",
            "wrapped\n",
            "dealing\n",
            "falling\n",
            "sporting\n",
            "covered\n",
            "supposed\n",
            "rolled\n",
            "providing\n",
            "building\n",
            "lighting\n",
            "received\n",
            "going\n",
            "nothing\n",
            "privileged\n",
            "dressing\n",
            "being\n",
            "charged\n",
            "visited\n",
            "proclaimed\n",
            "dedicated\n",
            "liked\n",
            "getting\n",
            "waited\n",
            "burned\n",
            "waited\n",
            "disappointed\n",
            "disappointed\n",
            "pulled\n",
            "prepared\n",
            "rating\n",
            "eating\n",
            "writing\n",
            "everything\n",
            "dining\n",
            "fried\n",
            "passed\n",
            "charming\n",
            "ordered\n",
            "toasted\n",
            "going\n",
            "figured\n",
            "making\n",
            "pricing\n",
            "considering\n",
            "returned\n",
            "amazing\n",
            "eyed\n",
            "pleased\n",
            "replenished\n",
            "nothing\n",
            "nothing\n",
            "driving\n",
            "treated\n",
            "during\n",
            "evening\n",
            "offered\n",
            "Outstanding\n",
            "handling\n",
            "wasting\n",
            "craving\n",
            "dropped\n",
            "dining\n",
            "decorated\n",
            "interesting\n",
            "being\n",
            "served\n",
            "outshining\n",
            "coming\n",
            "walked\n",
            "stuffed\n",
            "considering\n",
            "located\n",
            "shopping\n",
            "nothing\n",
            "disappointed\n",
            "getting\n",
            "iced\n",
            "trying\n",
            "grossed\n",
            "enjoyed\n",
            "eating\n",
            "going\n",
            "looked\n",
            "overwhelmed\n",
            "stayed\n",
            "tried\n",
            "loved\n",
            "cooked\n",
            "going\n",
            "contained\n",
            "enjoyed\n",
            "relaxed\n",
            "loved\n",
            "outstanding\n",
            "running\n",
            "forgetting\n",
            "trimmed\n",
            "claimed\n",
            "handled\n",
            "asked\n",
            "eating\n",
            "bring\n",
            "hoping\n",
            "living\n",
            "limited\n",
            "boiled\n",
            "dining\n",
            "liked\n",
            "sliced\n",
            "attached\n",
            "humiliated\n",
            "filling\n",
            "fried\n",
            "impressed\n",
            "priced\n",
            "thing\n",
            "need\n",
            "need\n",
            "experienced\n",
            "amazing\n",
            "amazing\n",
            "waited\n",
            "seated\n",
            "going\n",
            "going\n",
            "dining\n",
            "decided\n",
            "pleased\n",
            "saving\n",
            "something\n",
            "trying\n",
            "hankering\n",
            "recommended\n",
            "being\n",
            "witnessed\n",
            "waited\n",
            "checked\n",
            "tasted\n",
            "being\n",
            "served\n",
            "pulled\n",
            "waited\n",
            "being\n",
            "perpared\n",
            "dusted\n",
            "powdered\n",
            "enjoyed\n",
            "sitting\n",
            "ended\n",
            "waiting\n",
            "satisfying\n",
            "wanted\n",
            "eating\n",
            "need\n",
            "being\n",
            "freaking\n",
            "checked\n",
            "reheated\n",
            "getting\n",
            "tasted\n",
            "grilled\n",
            "going\n",
            "focused\n",
            "roasted\n",
            "asked\n",
            "being\n",
            "ignored\n",
            "bring\n",
            "letting\n",
            "tasted\n",
            "greeted\n",
            "waiting\n",
            "being\n",
            "eating\n",
            "going\n",
            "Disappointed\n",
            "ordered\n",
            "seating\n",
            "fried\n",
            "playing\n",
            "amazing\n",
            "staying\n",
            "used\n",
            "giving\n",
            "talking\n",
            "drenched\n",
            "tried\n",
            "walked\n",
            "expected\n",
            "filling\n",
            "dripping\n",
            "impressed\n",
            "going\n",
            "serving\n",
            "refrained\n",
            "recommending\n",
            "reading\n",
            "loved\n",
            "grilled\n",
            "reminded\n",
            "seating\n",
            "ordered\n",
            "going\n",
            "disappointed\n",
            "seasoned\n",
            "thing\n",
            "added\n",
            "sitting\n",
            "waiting\n",
            "bring\n",
            "coming\n",
            "touched\n",
            "anything\n",
            "opened\n",
            "feeling\n",
            "during\n",
            "watched\n",
            "thing\n",
            "being\n",
            "being\n",
            "ordered\n",
            "satifying\n",
            "describing\n",
            "coming\n",
            "everything\n",
            "received\n",
            "going\n",
            "impressed\n",
            "cooked\n",
            "needed\n",
            "served\n",
            "thing\n",
            "amazing\n",
            "getting\n",
            "opposed\n",
            "cramming\n",
            "surprised\n",
            "considering\n",
            "focused\n",
            "overpriced\n",
            "fucking\n",
            "tried\n",
            "enjoyed\n",
            "going\n",
            "qualified\n",
            "hated\n",
            "getting\n",
            "coming\n",
            "watched\n",
            "fried\n",
            "dealing\n",
            "everything\n",
            "tried\n",
            "something\n",
            "during\n",
            "helped\n",
            "dining\n",
            "cooking\n",
            "dining\n",
            "started\n",
            "editing\n",
            "highlighted\n",
            "used\n",
            "amazing\n",
            "enjoyed\n",
            "ordered\n",
            "tasted\n",
            "asked\n",
            "refused\n",
            "tried\n",
            "rotating\n",
            "toasted\n",
            "satisfying\n",
            "disappointing\n",
            "unexperienced\n",
            "running\n",
            "insulted\n",
            "being\n",
            "impressed\n",
            "thing\n",
            "nothing\n",
            "poisoning\n",
            "thinking\n",
            "something\n",
            "going\n",
            "caring\n",
            "bring\n",
            "asked\n",
            "rated\n",
            "going\n",
            "lacked\n",
            "coming\n",
            "sliced\n",
            "pulled\n",
            "building\n",
            "seating\n",
            "dipping\n",
            "seemed\n",
            "watered\n",
            "lacked\n",
            "drinking\n",
            "serving\n",
            "disappointed\n",
            "placed\n",
            "avoided\n",
            "received\n",
            "wanted\n",
            "doing\n",
            "happened\n",
            "wanted\n",
            "vomited\n",
            "looking\n",
            "started\n",
            "coming\n",
            "unwrapped\n",
            "lacked\n",
            "seemed\n",
            "closed\n",
            "staying\n",
            "refried\n",
            "dried\n",
            "disappointed\n",
            "impressed\n",
            "wasted\n",
            "poured\n",
            "drawing\n",
            "bring\n"
          ]
        }
      ]
    },
    {
      "cell_type": "code",
      "source": [
        "print(f'\\nTotal de palabras con terminacion ed o ing: {len(terminacion)}')"
      ],
      "metadata": {
        "id": "AhGq6De2Mvyh",
        "colab": {
          "base_uri": "https://localhost:8080/"
        },
        "outputId": "cdc4ae99-8488-4105-e411-fe2799604aa6"
      },
      "execution_count": 77,
      "outputs": [
        {
          "output_type": "stream",
          "name": "stdout",
          "text": [
            "\n",
            "Total de palabras con terminacion ed o ing: 450\n"
          ]
        }
      ]
    },
    {
      "cell_type": "markdown",
      "source": [
        "#**Parte 3. Proceso de limpieza.**"
      ],
      "metadata": {
        "id": "70StdqAZa9E9"
      }
    },
    {
      "cell_type": "markdown",
      "source": [
        "*   **Pregunta 13.**  \n",
        "\n",
        "Ahora realiza un proceso de limpieza del corpus que incluya los siguientes procesos:\n",
        "\n",
        "*   Solo se deben considerar caracteres alfabéticos. Es decir, se eliminan todos los signos de puntuación y caracteres especiales.\n",
        "*   Todos los caracteres alfabéticos se transforman a minúsculas.\n",
        "*   Se deben eliminar todos los espacios en blanco adicionales que se puedan encontrar en cada comentario.\n",
        "\n",
        "Al finalizar dicho proceso de limpieza, imprime el resultado de los primeros 10 comentarios resultantes.\n",
        "   \n",
        "\n",
        "\n"
      ],
      "metadata": {
        "id": "xaDUFXHrMvX2"
      }
    },
    {
      "cell_type": "code",
      "source": [],
      "metadata": {
        "id": "K3kQzPOPMx0w"
      },
      "execution_count": 40,
      "outputs": []
    },
    {
      "cell_type": "code",
      "source": [],
      "metadata": {
        "id": "mYEDlHSFMyJN"
      },
      "execution_count": 40,
      "outputs": []
    },
    {
      "cell_type": "markdown",
      "source": [
        "*   **Pregunta 14.**  \n",
        "\n",
        "Con el resultado de la limpieza obtenido en la pregunta anterior, realiza ahora un proceso de tokenización por palabras del corpus.\n",
        "\n",
        "Es decir, al final de este proceso de tokenización, debes tener como resultado una lista de listas, donde cada comentario estará tokenizado por palabras.\n",
        "\n",
        "Al terminar calcula el total de tokens obtenido en todo el corpus."
      ],
      "metadata": {
        "id": "WZwEhg2lUSAX"
      }
    },
    {
      "cell_type": "code",
      "source": [],
      "metadata": {
        "id": "kbAL9-v0V-jx"
      },
      "execution_count": 40,
      "outputs": []
    },
    {
      "cell_type": "code",
      "source": [],
      "metadata": {
        "id": "DZs_etmiV-fd"
      },
      "execution_count": 40,
      "outputs": []
    },
    {
      "cell_type": "code",
      "source": [
        "# Considera la siguiente lista como tu conjunto de stopwords:\n",
        "mis_stopwords = ['i', 'me', 'my', 'myself', 'we', 'our', 'ours', 'ourselves', 'you', 'your', 'yours', 'he', 'him', 'his', 'himself', 'she', 'her', 'hers', 'herself', 'it', 'its', 'itself', 'they', 'them', 'their', 'theirs', 'themselves', 'what', 'which', 'who', 'whom', 'this', 'that', 'these', 'those', 'am', 'is', 'are', 'was', 'were', 'be', 'been', 'being', 'have', 'has', 'had', 'having', 'do', 'does', 'did', 'doing', 'a', 'an', 'the', 'and', 'but', 'if', 'or', 'because', 'as', 'until', 'while', 'of', 'at', 'by', 'for', 'with', 'about', 'against', 'between', 'into', 'through', 'during', 'before', 'after', 'above', 'below', 'to', 'from', 'up', 'down', 'in', 'out', 'on', 'over', 'under', 'again', 'further', 'then', 'once', 'here', 'there', 'when', 'where', 'why', 'how', 'all', 'any', 'both', 'each', 'few', 'more', 'most', 'other', 'some', 'such', 'only', 'own', 'same', 'so', 'than', 'too', 'very', 's', 't', 'can', 'will', 'just', 'should', 'now', 'll']"
      ],
      "metadata": {
        "id": "6FP4FF3KXGxm"
      },
      "execution_count": 41,
      "outputs": []
    },
    {
      "cell_type": "code",
      "source": [],
      "metadata": {
        "id": "CD8yjyq1ZrwY"
      },
      "execution_count": 41,
      "outputs": []
    },
    {
      "cell_type": "code",
      "source": [],
      "metadata": {
        "id": "4ZPi5prKZro5"
      },
      "execution_count": 41,
      "outputs": []
    },
    {
      "cell_type": "markdown",
      "source": [
        "*   **Comentarios**\n",
        "\n",
        "Incluye finalmente tus comentarios de la actividad."
      ],
      "metadata": {
        "id": "NDbKkuxRbLoX"
      }
    },
    {
      "cell_type": "markdown",
      "source": [
        "<< incluye aquí tus comentarios >>"
      ],
      "metadata": {
        "id": "o7fzbvqVbUGr"
      }
    },
    {
      "cell_type": "markdown",
      "source": [
        "##**Fin de la Actividad de la semana 2.**"
      ],
      "metadata": {
        "id": "PHaKw_6Ldbaf"
      }
    }
  ]
}